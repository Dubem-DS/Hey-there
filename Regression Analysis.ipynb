{
 "cells": [
  {
   "cell_type": "markdown",
   "id": "a471eae6",
   "metadata": {},
   "source": [
    "Importing Libraries"
   ]
  },
  {
   "cell_type": "code",
   "execution_count": 1,
   "id": "f378d2b9",
   "metadata": {},
   "outputs": [],
   "source": [
    "import numpy as np\n",
    "import pandas as pd\n",
    "import statsmodels.api as sm\n",
    "import matplotlib.pyplot as plt\n",
    "import seaborn as sns\n",
    "sns.set()\n",
    "\n",
    "from sklearn.linear_model import LinearRegression"
   ]
  },
  {
   "cell_type": "markdown",
   "id": "24138226",
   "metadata": {},
   "source": [
    "Load Data"
   ]
  },
  {
   "cell_type": "code",
   "execution_count": 2,
   "id": "44efc0b0",
   "metadata": {},
   "outputs": [
    {
     "data": {
      "text/html": [
       "<div>\n",
       "<style scoped>\n",
       "    .dataframe tbody tr th:only-of-type {\n",
       "        vertical-align: middle;\n",
       "    }\n",
       "\n",
       "    .dataframe tbody tr th {\n",
       "        vertical-align: top;\n",
       "    }\n",
       "\n",
       "    .dataframe thead th {\n",
       "        text-align: right;\n",
       "    }\n",
       "</style>\n",
       "<table border=\"1\" class=\"dataframe\">\n",
       "  <thead>\n",
       "    <tr style=\"text-align: right;\">\n",
       "      <th></th>\n",
       "      <th>YEAR</th>\n",
       "      <th>Deposit Money Banks Financial Services Proxy By Bank Return on Assets</th>\n",
       "      <th>Mobile Money Transaction</th>\n",
       "      <th>Internet Banking Proxy By Total Bank Deposit</th>\n",
       "      <th>Automated Teller Machine (ATM)</th>\n",
       "      <th>Digital Network Penetration (Internet User Index)</th>\n",
       "    </tr>\n",
       "  </thead>\n",
       "  <tbody>\n",
       "    <tr>\n",
       "      <th>0</th>\n",
       "      <td>2000</td>\n",
       "      <td>2.557984</td>\n",
       "      <td>0</td>\n",
       "      <td>0.0</td>\n",
       "      <td>0.0</td>\n",
       "      <td>0</td>\n",
       "    </tr>\n",
       "    <tr>\n",
       "      <th>1</th>\n",
       "      <td>2001</td>\n",
       "      <td>3.260707</td>\n",
       "      <td>0</td>\n",
       "      <td>0.0</td>\n",
       "      <td>0.0</td>\n",
       "      <td>0</td>\n",
       "    </tr>\n",
       "    <tr>\n",
       "      <th>2</th>\n",
       "      <td>2002</td>\n",
       "      <td>2.443406</td>\n",
       "      <td>0</td>\n",
       "      <td>0.0</td>\n",
       "      <td>0.0</td>\n",
       "      <td>0</td>\n",
       "    </tr>\n",
       "    <tr>\n",
       "      <th>3</th>\n",
       "      <td>2003</td>\n",
       "      <td>1.841045</td>\n",
       "      <td>0</td>\n",
       "      <td>0.0</td>\n",
       "      <td>0.0</td>\n",
       "      <td>1</td>\n",
       "    </tr>\n",
       "    <tr>\n",
       "      <th>4</th>\n",
       "      <td>2004</td>\n",
       "      <td>2.024813</td>\n",
       "      <td>0</td>\n",
       "      <td>0.0</td>\n",
       "      <td>0.0</td>\n",
       "      <td>1</td>\n",
       "    </tr>\n",
       "  </tbody>\n",
       "</table>\n",
       "</div>"
      ],
      "text/plain": [
       "   YEAR  \\\n",
       "0  2000   \n",
       "1  2001   \n",
       "2  2002   \n",
       "3  2003   \n",
       "4  2004   \n",
       "\n",
       "   Deposit Money Banks Financial Services Proxy By Bank Return on Assets  \\\n",
       "0                                           2.557984                       \n",
       "1                                           3.260707                       \n",
       "2                                           2.443406                       \n",
       "3                                           1.841045                       \n",
       "4                                           2.024813                       \n",
       "\n",
       "   Mobile Money Transaction  Internet Banking Proxy By Total Bank Deposit  \\\n",
       "0                         0                                           0.0   \n",
       "1                         0                                           0.0   \n",
       "2                         0                                           0.0   \n",
       "3                         0                                           0.0   \n",
       "4                         0                                           0.0   \n",
       "\n",
       "   Automated Teller Machine (ATM)  \\\n",
       "0                             0.0   \n",
       "1                             0.0   \n",
       "2                             0.0   \n",
       "3                             0.0   \n",
       "4                             0.0   \n",
       "\n",
       "   Digital Network Penetration (Internet User Index)  \n",
       "0                                                  0  \n",
       "1                                                  0  \n",
       "2                                                  0  \n",
       "3                                                  1  \n",
       "4                                                  1  "
      ]
     },
     "execution_count": 2,
     "metadata": {},
     "output_type": "execute_result"
    }
   ],
   "source": [
    "data = pd.read_csv('DATA - Sheet1.csv')\n",
    "data.head()"
   ]
  },
  {
   "cell_type": "markdown",
   "id": "1c82f716",
   "metadata": {},
   "source": [
    "Preprocessing"
   ]
  },
  {
   "cell_type": "code",
   "execution_count": 3,
   "id": "3eb6f5e4",
   "metadata": {},
   "outputs": [
    {
     "data": {
      "text/html": [
       "<div>\n",
       "<style scoped>\n",
       "    .dataframe tbody tr th:only-of-type {\n",
       "        vertical-align: middle;\n",
       "    }\n",
       "\n",
       "    .dataframe tbody tr th {\n",
       "        vertical-align: top;\n",
       "    }\n",
       "\n",
       "    .dataframe thead th {\n",
       "        text-align: right;\n",
       "    }\n",
       "</style>\n",
       "<table border=\"1\" class=\"dataframe\">\n",
       "  <thead>\n",
       "    <tr style=\"text-align: right;\">\n",
       "      <th></th>\n",
       "      <th>YEAR</th>\n",
       "      <th>Deposit Money Banks Financial Services Proxy By Bank Return on Assets</th>\n",
       "      <th>Mobile Money Transaction</th>\n",
       "      <th>Internet Banking Proxy By Total Bank Deposit</th>\n",
       "      <th>Automated Teller Machine (ATM)</th>\n",
       "      <th>Digital Network Penetration (Internet User Index)</th>\n",
       "    </tr>\n",
       "  </thead>\n",
       "  <tbody>\n",
       "    <tr>\n",
       "      <th>count</th>\n",
       "      <td>22.000000</td>\n",
       "      <td>22.000000</td>\n",
       "      <td>2.200000e+01</td>\n",
       "      <td>22.000000</td>\n",
       "      <td>22.000000</td>\n",
       "      <td>22.000000</td>\n",
       "    </tr>\n",
       "    <tr>\n",
       "      <th>mean</th>\n",
       "      <td>2010.500000</td>\n",
       "      <td>0.679455</td>\n",
       "      <td>4.165148e+06</td>\n",
       "      <td>507.504545</td>\n",
       "      <td>9.404091</td>\n",
       "      <td>15.318182</td>\n",
       "    </tr>\n",
       "    <tr>\n",
       "      <th>std</th>\n",
       "      <td>6.493587</td>\n",
       "      <td>5.437938</td>\n",
       "      <td>6.091039e+06</td>\n",
       "      <td>445.714068</td>\n",
       "      <td>7.027834</td>\n",
       "      <td>12.889222</td>\n",
       "    </tr>\n",
       "    <tr>\n",
       "      <th>min</th>\n",
       "      <td>2000.000000</td>\n",
       "      <td>-23.257140</td>\n",
       "      <td>0.000000e+00</td>\n",
       "      <td>0.000000</td>\n",
       "      <td>0.000000</td>\n",
       "      <td>0.000000</td>\n",
       "    </tr>\n",
       "    <tr>\n",
       "      <th>25%</th>\n",
       "      <td>2005.250000</td>\n",
       "      <td>0.995602</td>\n",
       "      <td>0.000000e+00</td>\n",
       "      <td>0.000000</td>\n",
       "      <td>0.955000</td>\n",
       "      <td>4.500000</td>\n",
       "    </tr>\n",
       "    <tr>\n",
       "      <th>50%</th>\n",
       "      <td>2010.500000</td>\n",
       "      <td>1.932929</td>\n",
       "      <td>0.000000e+00</td>\n",
       "      <td>488.600000</td>\n",
       "      <td>11.475000</td>\n",
       "      <td>13.000000</td>\n",
       "    </tr>\n",
       "    <tr>\n",
       "      <th>75%</th>\n",
       "      <td>2015.750000</td>\n",
       "      <td>2.360424</td>\n",
       "      <td>7.001586e+06</td>\n",
       "      <td>777.300000</td>\n",
       "      <td>16.180000</td>\n",
       "      <td>25.750000</td>\n",
       "    </tr>\n",
       "    <tr>\n",
       "      <th>max</th>\n",
       "      <td>2021.000000</td>\n",
       "      <td>3.800280</td>\n",
       "      <td>2.311638e+07</td>\n",
       "      <td>1310.400000</td>\n",
       "      <td>17.190000</td>\n",
       "      <td>38.000000</td>\n",
       "    </tr>\n",
       "  </tbody>\n",
       "</table>\n",
       "</div>"
      ],
      "text/plain": [
       "              YEAR  \\\n",
       "count    22.000000   \n",
       "mean   2010.500000   \n",
       "std       6.493587   \n",
       "min    2000.000000   \n",
       "25%    2005.250000   \n",
       "50%    2010.500000   \n",
       "75%    2015.750000   \n",
       "max    2021.000000   \n",
       "\n",
       "       Deposit Money Banks Financial Services Proxy By Bank Return on Assets  \\\n",
       "count                                          22.000000                       \n",
       "mean                                            0.679455                       \n",
       "std                                             5.437938                       \n",
       "min                                           -23.257140                       \n",
       "25%                                             0.995602                       \n",
       "50%                                             1.932929                       \n",
       "75%                                             2.360424                       \n",
       "max                                             3.800280                       \n",
       "\n",
       "       Mobile Money Transaction  Internet Banking Proxy By Total Bank Deposit  \\\n",
       "count              2.200000e+01                                     22.000000   \n",
       "mean               4.165148e+06                                    507.504545   \n",
       "std                6.091039e+06                                    445.714068   \n",
       "min                0.000000e+00                                      0.000000   \n",
       "25%                0.000000e+00                                      0.000000   \n",
       "50%                0.000000e+00                                    488.600000   \n",
       "75%                7.001586e+06                                    777.300000   \n",
       "max                2.311638e+07                                   1310.400000   \n",
       "\n",
       "       Automated Teller Machine (ATM)  \\\n",
       "count                       22.000000   \n",
       "mean                         9.404091   \n",
       "std                          7.027834   \n",
       "min                          0.000000   \n",
       "25%                          0.955000   \n",
       "50%                         11.475000   \n",
       "75%                         16.180000   \n",
       "max                         17.190000   \n",
       "\n",
       "       Digital Network Penetration (Internet User Index)  \n",
       "count                                          22.000000  \n",
       "mean                                           15.318182  \n",
       "std                                            12.889222  \n",
       "min                                             0.000000  \n",
       "25%                                             4.500000  \n",
       "50%                                            13.000000  \n",
       "75%                                            25.750000  \n",
       "max                                            38.000000  "
      ]
     },
     "execution_count": 3,
     "metadata": {},
     "output_type": "execute_result"
    }
   ],
   "source": [
    "data.describe(include='all')"
   ]
  },
  {
   "cell_type": "markdown",
   "id": "cddd8397",
   "metadata": {},
   "source": [
    "Exploring PDFs"
   ]
  },
  {
   "cell_type": "code",
   "execution_count": 4,
   "id": "d979bc54",
   "metadata": {},
   "outputs": [
    {
     "name": "stderr",
     "output_type": "stream",
     "text": [
      "C:\\Users\\user\\Documents\\ANA\\lib\\site-packages\\seaborn\\distributions.py:2619: FutureWarning: `distplot` is a deprecated function and will be removed in a future version. Please adapt your code to use either `displot` (a figure-level function with similar flexibility) or `histplot` (an axes-level function for histograms).\n",
      "  warnings.warn(msg, FutureWarning)\n"
     ]
    },
    {
     "data": {
      "text/plain": [
       "<AxesSubplot:xlabel='Deposit Money Banks Financial Services Proxy By Bank Return on Assets', ylabel='Density'>"
      ]
     },
     "execution_count": 4,
     "metadata": {},
     "output_type": "execute_result"
    },
    {
     "data": {
      "image/png": "[encoded data removed]",
      "text/plain": [
       "<Figure size 640x480 with 1 Axes>"
      ]
     },
     "metadata": {},
     "output_type": "display_data"
    }
   ],
   "source": [
    "sns.distplot(data['Deposit Money Banks Financial Services Proxy By Bank Return on Assets'])"
   ]
  },
  {
   "cell_type": "code",
   "execution_count": 5,
   "id": "94aa57e7",
   "metadata": {},
   "outputs": [
    {
     "name": "stderr",
     "output_type": "stream",
     "text": [
      "C:\\Users\\user\\Documents\\ANA\\lib\\site-packages\\seaborn\\distributions.py:2619: FutureWarning: `distplot` is a deprecated function and will be removed in a future version. Please adapt your code to use either `displot` (a figure-level function with similar flexibility) or `histplot` (an axes-level function for histograms).\n",
      "  warnings.warn(msg, FutureWarning)\n"
     ]
    },
    {
     "data": {
      "text/plain": [
       "<AxesSubplot:xlabel='Mobile Money Transaction', ylabel='Density'>"
      ]
     },
     "execution_count": 5,
     "metadata": {},
     "output_type": "execute_result"
    },
    {
     "data": {
      "image/png": "[encoded data removed]",
      "text/plain": [
       "<Figure size 640x480 with 1 Axes>"
      ]
     },
     "metadata": {},
     "output_type": "display_data"
    }
   ],
   "source": [
    "sns.distplot(data['Mobile Money Transaction'])"
   ]
  },
  {
   "cell_type": "code",
   "execution_count": 6,
   "id": "34335866",
   "metadata": {},
   "outputs": [
    {
     "name": "stderr",
     "output_type": "stream",
     "text": [
      "C:\\Users\\user\\Documents\\ANA\\lib\\site-packages\\seaborn\\distributions.py:2619: FutureWarning: `distplot` is a deprecated function and will be removed in a future version. Please adapt your code to use either `displot` (a figure-level function with similar flexibility) or `histplot` (an axes-level function for histograms).\n",
      "  warnings.warn(msg, FutureWarning)\n"
     ]
    },
    {
     "data": {
      "text/plain": [
       "<AxesSubplot:xlabel='Automated Teller Machine (ATM)', ylabel='Density'>"
      ]
     },
     "execution_count": 6,
     "metadata": {},
     "output_type": "execute_result"
    },
    {
     "data": {
      "image/png": "[encoded data removed]",
      "text/plain": [
       "<Figure size 640x480 with 1 Axes>"
      ]
     },
     "metadata": {},
     "output_type": "display_data"
    }
   ],
   "source": [
    "sns.distplot(data['Automated Teller Machine (ATM)'])"
   ]
  },
  {
   "cell_type": "markdown",
   "id": "ff66f658",
   "metadata": {},
   "source": [
    "Check OLS assumptions"
   ]
  },
  {
   "cell_type": "code",
   "execution_count": 7,
   "id": "a1f03b49",
   "metadata": {},
   "outputs": [
    {
     "data": {
      "image/png": "[encoded data removed]",
      "text/plain": [
       "<Figure size 1500x300 with 3 Axes>"
      ]
     },
     "metadata": {},
     "output_type": "display_data"
    }
   ],
   "source": [
    "f, (ax1, ax2, ax3) = plt.subplots(1, 3, sharey=True, figsize =(15,3))\n",
    "ax1.scatter(data['YEAR'],data['Deposit Money Banks Financial Services Proxy By Bank Return on Assets'])\n",
    "ax1.set_title('Deposit and YEAR')\n",
    "ax2.scatter(data['Mobile Money Transaction'],data['Deposit Money Banks Financial Services Proxy By Bank Return on Assets'])\n",
    "ax2.set_title('Deposit and Mobile Money')\n",
    "ax3.scatter(data['Automated Teller Machine (ATM)'],data['Deposit Money Banks Financial Services Proxy By Bank Return on Assets'])\n",
    "ax3.set_title('Deposit and ATM')\n",
    "\n",
    "\n",
    "plt.show()"
   ]
  },
  {
   "cell_type": "markdown",
   "id": "add364bb",
   "metadata": {},
   "source": [
    "Multicollinearity"
   ]
  },
  {
   "cell_type": "code",
   "execution_count": 8,
   "id": "6d985023",
   "metadata": {},
   "outputs": [
    {
     "data": {
      "text/plain": [
       "array(['YEAR',\n",
       "       'Deposit Money Banks Financial Services Proxy By Bank Return on Assets',\n",
       "       'Mobile Money Transaction',\n",
       "       'Internet Banking Proxy By Total Bank Deposit',\n",
       "       'Automated Teller Machine (ATM)',\n",
       "       'Digital Network Penetration (Internet User Index)'], dtype=object)"
      ]
     },
     "execution_count": 8,
     "metadata": {},
     "output_type": "execute_result"
    }
   ],
   "source": [
    "data.columns.values"
   ]
  },
  {
   "cell_type": "code",
   "execution_count": 9,
   "id": "a8e4843a",
   "metadata": {},
   "outputs": [],
   "source": [
    "from statsmodels.stats.outliers_influence import variance_inflation_factor\n",
    "variables = data[['YEAR','Mobile Money Transaction','Automated Teller Machine (ATM)']]\n",
    "vif = pd.DataFrame()\n",
    "vif[\"VIF\"] = [variance_inflation_factor(variables.values, i) for i in range(variables.shape[1])]\n",
    "vif[\"features\"] = variables.columns"
   ]
  },
  {
   "cell_type": "code",
   "execution_count": 10,
   "id": "185ed547",
   "metadata": {},
   "outputs": [
    {
     "data": {
      "text/html": [
       "<div>\n",
       "<style scoped>\n",
       "    .dataframe tbody tr th:only-of-type {\n",
       "        vertical-align: middle;\n",
       "    }\n",
       "\n",
       "    .dataframe tbody tr th {\n",
       "        vertical-align: top;\n",
       "    }\n",
       "\n",
       "    .dataframe thead th {\n",
       "        text-align: right;\n",
       "    }\n",
       "</style>\n",
       "<table border=\"1\" class=\"dataframe\">\n",
       "  <thead>\n",
       "    <tr style=\"text-align: right;\">\n",
       "      <th></th>\n",
       "      <th>VIF</th>\n",
       "      <th>features</th>\n",
       "    </tr>\n",
       "  </thead>\n",
       "  <tbody>\n",
       "    <tr>\n",
       "      <th>0</th>\n",
       "      <td>2.996625</td>\n",
       "      <td>YEAR</td>\n",
       "    </tr>\n",
       "    <tr>\n",
       "      <th>1</th>\n",
       "      <td>2.759482</td>\n",
       "      <td>Mobile Money Transaction</td>\n",
       "    </tr>\n",
       "    <tr>\n",
       "      <th>2</th>\n",
       "      <td>5.351731</td>\n",
       "      <td>Automated Teller Machine (ATM)</td>\n",
       "    </tr>\n",
       "  </tbody>\n",
       "</table>\n",
       "</div>"
      ],
      "text/plain": [
       "        VIF                        features\n",
       "0  2.996625                            YEAR\n",
       "1  2.759482        Mobile Money Transaction\n",
       "2  5.351731  Automated Teller Machine (ATM)"
      ]
     },
     "execution_count": 10,
     "metadata": {},
     "output_type": "execute_result"
    }
   ],
   "source": [
    "vif"
   ]
  },
  {
   "cell_type": "markdown",
   "id": "4e253f3a",
   "metadata": {},
   "source": [
    "Linear Regression Model"
   ]
  },
  {
   "cell_type": "markdown",
   "id": "841fbad4",
   "metadata": {},
   "source": [
    "Declare the inputs and the targets"
   ]
  },
  {
   "cell_type": "code",
   "execution_count": 11,
   "id": "f0f52dfd",
   "metadata": {},
   "outputs": [],
   "source": [
    "targets = data['Deposit Money Banks Financial Services Proxy By Bank Return on Assets']\n",
    "inputs = data.drop(['Deposit Money Banks Financial Services Proxy By Bank Return on Assets'],axis=1)"
   ]
  },
  {
   "cell_type": "markdown",
   "id": "7f49eb77",
   "metadata": {},
   "source": [
    "Scale the data"
   ]
  },
  {
   "cell_type": "code",
   "execution_count": 12,
   "id": "ccb206f5",
   "metadata": {},
   "outputs": [
    {
     "data": {
      "text/plain": [
       "StandardScaler()"
      ]
     },
     "execution_count": 12,
     "metadata": {},
     "output_type": "execute_result"
    }
   ],
   "source": [
    "from sklearn.preprocessing import StandardScaler\n",
    "\n",
    "scaler = StandardScaler()\n",
    "scaler.fit(inputs)"
   ]
  },
  {
   "cell_type": "code",
   "execution_count": 13,
   "id": "78a31081",
   "metadata": {},
   "outputs": [],
   "source": [
    "inputs_scaled = scaler.transform(inputs)"
   ]
  },
  {
   "cell_type": "markdown",
   "id": "464a070a",
   "metadata": {},
   "source": [
    "Train Test Split"
   ]
  },
  {
   "cell_type": "code",
   "execution_count": 14,
   "id": "de222966",
   "metadata": {},
   "outputs": [],
   "source": [
    "from sklearn.model_selection import train_test_split\n",
    "\n",
    "x_train, x_test, y_train, y_test = train_test_split(inputs_scaled, targets, test_size=0.6, random_state=365)"
   ]
  },
  {
   "cell_type": "markdown",
   "id": "86f00ad5",
   "metadata": {},
   "source": [
    "Create the regression"
   ]
  },
  {
   "cell_type": "code",
   "execution_count": 15,
   "id": "bc288379",
   "metadata": {},
   "outputs": [
    {
     "data": {
      "text/plain": [
       "LinearRegression()"
      ]
     },
     "execution_count": 15,
     "metadata": {},
     "output_type": "execute_result"
    }
   ],
   "source": [
    "reg = LinearRegression()\n",
    "reg.fit(x_train,y_train)"
   ]
  },
  {
   "cell_type": "code",
   "execution_count": 16,
   "id": "7cdb9e0e",
   "metadata": {},
   "outputs": [],
   "source": [
    "y_hat = reg.predict(x_train)"
   ]
  },
  {
   "cell_type": "code",
   "execution_count": 17,
   "id": "e7fed21f",
   "metadata": {},
   "outputs": [
    {
     "name": "stderr",
     "output_type": "stream",
     "text": [
      "C:\\Users\\user\\Documents\\ANA\\lib\\site-packages\\seaborn\\distributions.py:2619: FutureWarning: `distplot` is a deprecated function and will be removed in a future version. Please adapt your code to use either `displot` (a figure-level function with similar flexibility) or `histplot` (an axes-level function for histograms).\n",
      "  warnings.warn(msg, FutureWarning)\n"
     ]
    },
    {
     "data": {
      "text/plain": [
       "Text(0.5, 1.0, 'Residuals PDF')"
      ]
     },
     "execution_count": 17,
     "metadata": {},
     "output_type": "execute_result"
    },
    {
     "data": {
      "image/png": "[encoded data removed]",
      "text/plain": [
       "<Figure size 640x480 with 1 Axes>"
      ]
     },
     "metadata": {},
     "output_type": "display_data"
    }
   ],
   "source": [
    "sns.distplot(y_train - y_hat)\n",
    "plt.title(\"Residuals PDF\", size=18)"
   ]
  },
  {
   "cell_type": "code",
   "execution_count": 18,
   "id": "4aaa2f5f",
   "metadata": {},
   "outputs": [
    {
     "data": {
      "text/plain": [
       "0.7635996231852993"
      ]
     },
     "execution_count": 18,
     "metadata": {},
     "output_type": "execute_result"
    }
   ],
   "source": [
    "reg.score(x_train,y_train)"
   ]
  },
  {
   "cell_type": "markdown",
   "id": "d14854be",
   "metadata": {},
   "source": [
    "Finding the weights and bias"
   ]
  },
  {
   "cell_type": "code",
   "execution_count": 19,
   "id": "3b916dc1",
   "metadata": {},
   "outputs": [
    {
     "data": {
      "text/plain": [
       "4.305441894445352"
      ]
     },
     "execution_count": 19,
     "metadata": {},
     "output_type": "execute_result"
    }
   ],
   "source": [
    "reg.intercept_"
   ]
  },
  {
   "cell_type": "code",
   "execution_count": 20,
   "id": "340c8570",
   "metadata": {
    "scrolled": true
   },
   "outputs": [
    {
     "data": {
      "text/plain": [
       "array([ 12.64975388,  30.60389105,  -0.87877232, -15.04335957,\n",
       "       -12.84834079])"
      ]
     },
     "execution_count": 20,
     "metadata": {},
     "output_type": "execute_result"
    }
   ],
   "source": [
    "reg.coef_"
   ]
  },
  {
   "cell_type": "code",
   "execution_count": 21,
   "id": "e0da30d8",
   "metadata": {},
   "outputs": [
    {
     "data": {
      "text/html": [
       "<div>\n",
       "<style scoped>\n",
       "    .dataframe tbody tr th:only-of-type {\n",
       "        vertical-align: middle;\n",
       "    }\n",
       "\n",
       "    .dataframe tbody tr th {\n",
       "        vertical-align: top;\n",
       "    }\n",
       "\n",
       "    .dataframe thead th {\n",
       "        text-align: right;\n",
       "    }\n",
       "</style>\n",
       "<table border=\"1\" class=\"dataframe\">\n",
       "  <thead>\n",
       "    <tr style=\"text-align: right;\">\n",
       "      <th></th>\n",
       "      <th>Features</th>\n",
       "      <th>Weights</th>\n",
       "    </tr>\n",
       "  </thead>\n",
       "  <tbody>\n",
       "    <tr>\n",
       "      <th>0</th>\n",
       "      <td>YEAR</td>\n",
       "      <td>12.649754</td>\n",
       "    </tr>\n",
       "    <tr>\n",
       "      <th>1</th>\n",
       "      <td>Mobile Money Transaction</td>\n",
       "      <td>30.603891</td>\n",
       "    </tr>\n",
       "    <tr>\n",
       "      <th>2</th>\n",
       "      <td>Internet Banking Proxy By Total Bank Deposit</td>\n",
       "      <td>-0.878772</td>\n",
       "    </tr>\n",
       "    <tr>\n",
       "      <th>3</th>\n",
       "      <td>Automated Teller Machine (ATM)</td>\n",
       "      <td>-15.043360</td>\n",
       "    </tr>\n",
       "    <tr>\n",
       "      <th>4</th>\n",
       "      <td>Digital Network Penetration (Internet User Index)</td>\n",
       "      <td>-12.848341</td>\n",
       "    </tr>\n",
       "  </tbody>\n",
       "</table>\n",
       "</div>"
      ],
      "text/plain": [
       "                                            Features    Weights\n",
       "0                                               YEAR  12.649754\n",
       "1                           Mobile Money Transaction  30.603891\n",
       "2       Internet Banking Proxy By Total Bank Deposit  -0.878772\n",
       "3                     Automated Teller Machine (ATM) -15.043360\n",
       "4  Digital Network Penetration (Internet User Index) -12.848341"
      ]
     },
     "execution_count": 21,
     "metadata": {},
     "output_type": "execute_result"
    }
   ],
   "source": [
    "reg_summary = pd.DataFrame(inputs.columns.values, columns=['Features'])\n",
    "reg_summary['Weights'] = reg.coef_\n",
    "reg_summary"
   ]
  },
  {
   "cell_type": "markdown",
   "id": "d1735b94",
   "metadata": {},
   "source": [
    "Testing"
   ]
  },
  {
   "cell_type": "code",
   "execution_count": 22,
   "id": "b7e56ae3",
   "metadata": {},
   "outputs": [],
   "source": [
    "y_hat_test = reg.predict(x_test)"
   ]
  },
  {
   "cell_type": "code",
   "execution_count": 23,
   "id": "a14a7cff",
   "metadata": {},
   "outputs": [
    {
     "data": {
      "text/html": [
       "<div>\n",
       "<style scoped>\n",
       "    .dataframe tbody tr th:only-of-type {\n",
       "        vertical-align: middle;\n",
       "    }\n",
       "\n",
       "    .dataframe tbody tr th {\n",
       "        vertical-align: top;\n",
       "    }\n",
       "\n",
       "    .dataframe thead th {\n",
       "        text-align: right;\n",
       "    }\n",
       "</style>\n",
       "<table border=\"1\" class=\"dataframe\">\n",
       "  <thead>\n",
       "    <tr style=\"text-align: right;\">\n",
       "      <th></th>\n",
       "      <th>Prediction</th>\n",
       "    </tr>\n",
       "  </thead>\n",
       "  <tbody>\n",
       "    <tr>\n",
       "      <th>0</th>\n",
       "      <td>8.651475e-06</td>\n",
       "    </tr>\n",
       "    <tr>\n",
       "      <th>1</th>\n",
       "      <td>1.492685e-09</td>\n",
       "    </tr>\n",
       "    <tr>\n",
       "      <th>2</th>\n",
       "      <td>5.941050e+17</td>\n",
       "    </tr>\n",
       "    <tr>\n",
       "      <th>3</th>\n",
       "      <td>5.245512e+04</td>\n",
       "    </tr>\n",
       "    <tr>\n",
       "      <th>4</th>\n",
       "      <td>1.304440e+36</td>\n",
       "    </tr>\n",
       "  </tbody>\n",
       "</table>\n",
       "</div>"
      ],
      "text/plain": [
       "     Prediction\n",
       "0  8.651475e-06\n",
       "1  1.492685e-09\n",
       "2  5.941050e+17\n",
       "3  5.245512e+04\n",
       "4  1.304440e+36"
      ]
     },
     "execution_count": 23,
     "metadata": {},
     "output_type": "execute_result"
    }
   ],
   "source": [
    "df_pf = pd.DataFrame(np.exp(y_hat_test), columns=['Prediction'])\n",
    "df_pf.head()"
   ]
  },
  {
   "cell_type": "code",
   "execution_count": 24,
   "id": "ad784d11",
   "metadata": {},
   "outputs": [
    {
     "data": {
      "text/html": [
       "<div>\n",
       "<style scoped>\n",
       "    .dataframe tbody tr th:only-of-type {\n",
       "        vertical-align: middle;\n",
       "    }\n",
       "\n",
       "    .dataframe tbody tr th {\n",
       "        vertical-align: top;\n",
       "    }\n",
       "\n",
       "    .dataframe thead th {\n",
       "        text-align: right;\n",
       "    }\n",
       "</style>\n",
       "<table border=\"1\" class=\"dataframe\">\n",
       "  <thead>\n",
       "    <tr style=\"text-align: right;\">\n",
       "      <th></th>\n",
       "      <th>Prediction</th>\n",
       "      <th>Target</th>\n",
       "    </tr>\n",
       "  </thead>\n",
       "  <tbody>\n",
       "    <tr>\n",
       "      <th>0</th>\n",
       "      <td>8.651475e-06</td>\n",
       "      <td>12.909765</td>\n",
       "    </tr>\n",
       "    <tr>\n",
       "      <th>1</th>\n",
       "      <td>1.492685e-09</td>\n",
       "      <td>NaN</td>\n",
       "    </tr>\n",
       "    <tr>\n",
       "      <th>2</th>\n",
       "      <td>5.941050e+17</td>\n",
       "      <td>NaN</td>\n",
       "    </tr>\n",
       "    <tr>\n",
       "      <th>3</th>\n",
       "      <td>5.245512e+04</td>\n",
       "      <td>6.303122</td>\n",
       "    </tr>\n",
       "    <tr>\n",
       "      <th>4</th>\n",
       "      <td>1.304440e+36</td>\n",
       "      <td>7.574694</td>\n",
       "    </tr>\n",
       "    <tr>\n",
       "      <th>5</th>\n",
       "      <td>4.116336e+09</td>\n",
       "      <td>NaN</td>\n",
       "    </tr>\n",
       "    <tr>\n",
       "      <th>6</th>\n",
       "      <td>3.152371e+00</td>\n",
       "      <td>5.779383</td>\n",
       "    </tr>\n",
       "    <tr>\n",
       "      <th>7</th>\n",
       "      <td>1.238279e-02</td>\n",
       "      <td>14.439868</td>\n",
       "    </tr>\n",
       "    <tr>\n",
       "      <th>8</th>\n",
       "      <td>1.567599e+02</td>\n",
       "      <td>8.209869</td>\n",
       "    </tr>\n",
       "    <tr>\n",
       "      <th>9</th>\n",
       "      <td>6.457124e+01</td>\n",
       "      <td>NaN</td>\n",
       "    </tr>\n",
       "    <tr>\n",
       "      <th>10</th>\n",
       "      <td>4.522201e-01</td>\n",
       "      <td>44.713703</td>\n",
       "    </tr>\n",
       "    <tr>\n",
       "      <th>11</th>\n",
       "      <td>4.742097e+02</td>\n",
       "      <td>1.520898</td>\n",
       "    </tr>\n",
       "    <tr>\n",
       "      <th>12</th>\n",
       "      <td>3.496554e-06</td>\n",
       "      <td>NaN</td>\n",
       "    </tr>\n",
       "    <tr>\n",
       "      <th>13</th>\n",
       "      <td>7.904186e-09</td>\n",
       "      <td>7.859461</td>\n",
       "    </tr>\n",
       "  </tbody>\n",
       "</table>\n",
       "</div>"
      ],
      "text/plain": [
       "      Prediction     Target\n",
       "0   8.651475e-06  12.909765\n",
       "1   1.492685e-09        NaN\n",
       "2   5.941050e+17        NaN\n",
       "3   5.245512e+04   6.303122\n",
       "4   1.304440e+36   7.574694\n",
       "5   4.116336e+09        NaN\n",
       "6   3.152371e+00   5.779383\n",
       "7   1.238279e-02  14.439868\n",
       "8   1.567599e+02   8.209869\n",
       "9   6.457124e+01        NaN\n",
       "10  4.522201e-01  44.713703\n",
       "11  4.742097e+02   1.520898\n",
       "12  3.496554e-06        NaN\n",
       "13  7.904186e-09   7.859461"
      ]
     },
     "execution_count": 24,
     "metadata": {},
     "output_type": "execute_result"
    }
   ],
   "source": [
    "df_pf['Target'] = np.exp(y_test)\n",
    "df_pf"
   ]
  },
  {
   "cell_type": "code",
   "execution_count": 25,
   "id": "6b2b94f2",
   "metadata": {},
   "outputs": [
    {
     "data": {
      "text/html": [
       "<div>\n",
       "<style scoped>\n",
       "    .dataframe tbody tr th:only-of-type {\n",
       "        vertical-align: middle;\n",
       "    }\n",
       "\n",
       "    .dataframe tbody tr th {\n",
       "        vertical-align: top;\n",
       "    }\n",
       "\n",
       "    .dataframe thead th {\n",
       "        text-align: right;\n",
       "    }\n",
       "</style>\n",
       "<table border=\"1\" class=\"dataframe\">\n",
       "  <thead>\n",
       "    <tr style=\"text-align: right;\">\n",
       "      <th></th>\n",
       "      <th>Prediction</th>\n",
       "      <th>Target</th>\n",
       "    </tr>\n",
       "  </thead>\n",
       "  <tbody>\n",
       "    <tr>\n",
       "      <th>0</th>\n",
       "      <td>8.651475e-06</td>\n",
       "      <td>12.909765</td>\n",
       "    </tr>\n",
       "    <tr>\n",
       "      <th>1</th>\n",
       "      <td>1.492685e-09</td>\n",
       "      <td>NaN</td>\n",
       "    </tr>\n",
       "    <tr>\n",
       "      <th>2</th>\n",
       "      <td>5.941050e+17</td>\n",
       "      <td>NaN</td>\n",
       "    </tr>\n",
       "    <tr>\n",
       "      <th>3</th>\n",
       "      <td>5.245512e+04</td>\n",
       "      <td>6.303122</td>\n",
       "    </tr>\n",
       "    <tr>\n",
       "      <th>4</th>\n",
       "      <td>1.304440e+36</td>\n",
       "      <td>7.574694</td>\n",
       "    </tr>\n",
       "    <tr>\n",
       "      <th>5</th>\n",
       "      <td>4.116336e+09</td>\n",
       "      <td>NaN</td>\n",
       "    </tr>\n",
       "    <tr>\n",
       "      <th>6</th>\n",
       "      <td>3.152371e+00</td>\n",
       "      <td>5.779383</td>\n",
       "    </tr>\n",
       "    <tr>\n",
       "      <th>7</th>\n",
       "      <td>1.238279e-02</td>\n",
       "      <td>14.439868</td>\n",
       "    </tr>\n",
       "    <tr>\n",
       "      <th>8</th>\n",
       "      <td>1.567599e+02</td>\n",
       "      <td>8.209869</td>\n",
       "    </tr>\n",
       "    <tr>\n",
       "      <th>9</th>\n",
       "      <td>6.457124e+01</td>\n",
       "      <td>NaN</td>\n",
       "    </tr>\n",
       "    <tr>\n",
       "      <th>10</th>\n",
       "      <td>4.522201e-01</td>\n",
       "      <td>44.713703</td>\n",
       "    </tr>\n",
       "    <tr>\n",
       "      <th>11</th>\n",
       "      <td>4.742097e+02</td>\n",
       "      <td>1.520898</td>\n",
       "    </tr>\n",
       "    <tr>\n",
       "      <th>12</th>\n",
       "      <td>3.496554e-06</td>\n",
       "      <td>NaN</td>\n",
       "    </tr>\n",
       "    <tr>\n",
       "      <th>13</th>\n",
       "      <td>7.904186e-09</td>\n",
       "      <td>7.859461</td>\n",
       "    </tr>\n",
       "  </tbody>\n",
       "</table>\n",
       "</div>"
      ],
      "text/plain": [
       "      Prediction     Target\n",
       "0   8.651475e-06  12.909765\n",
       "1   1.492685e-09        NaN\n",
       "2   5.941050e+17        NaN\n",
       "3   5.245512e+04   6.303122\n",
       "4   1.304440e+36   7.574694\n",
       "5   4.116336e+09        NaN\n",
       "6   3.152371e+00   5.779383\n",
       "7   1.238279e-02  14.439868\n",
       "8   1.567599e+02   8.209869\n",
       "9   6.457124e+01        NaN\n",
       "10  4.522201e-01  44.713703\n",
       "11  4.742097e+02   1.520898\n",
       "12  3.496554e-06        NaN\n",
       "13  7.904186e-09   7.859461"
      ]
     },
     "execution_count": 25,
     "metadata": {},
     "output_type": "execute_result"
    }
   ],
   "source": [
    "df_pf['Target'] = np.exp(y_test)\n",
    "df_pf"
   ]
  },
  {
   "cell_type": "code",
   "execution_count": 26,
   "id": "115e6aab",
   "metadata": {},
   "outputs": [],
   "source": [
    "df_pf['Residual'] = df_pf['Target'] - df_pf['Prediction']\n"
   ]
  },
  {
   "cell_type": "code",
   "execution_count": 27,
   "id": "d1104e5a",
   "metadata": {},
   "outputs": [
    {
     "data": {
      "text/html": [
       "<div>\n",
       "<style scoped>\n",
       "    .dataframe tbody tr th:only-of-type {\n",
       "        vertical-align: middle;\n",
       "    }\n",
       "\n",
       "    .dataframe tbody tr th {\n",
       "        vertical-align: top;\n",
       "    }\n",
       "\n",
       "    .dataframe thead th {\n",
       "        text-align: right;\n",
       "    }\n",
       "</style>\n",
       "<table border=\"1\" class=\"dataframe\">\n",
       "  <thead>\n",
       "    <tr style=\"text-align: right;\">\n",
       "      <th></th>\n",
       "      <th>Prediction</th>\n",
       "      <th>Target</th>\n",
       "      <th>Residual</th>\n",
       "      <th>Difference%</th>\n",
       "    </tr>\n",
       "  </thead>\n",
       "  <tbody>\n",
       "    <tr>\n",
       "      <th>0</th>\n",
       "      <td>8.651475e-06</td>\n",
       "      <td>12.909765</td>\n",
       "      <td>1.290976e+01</td>\n",
       "      <td>9.999993e+01</td>\n",
       "    </tr>\n",
       "    <tr>\n",
       "      <th>1</th>\n",
       "      <td>1.492685e-09</td>\n",
       "      <td>NaN</td>\n",
       "      <td>NaN</td>\n",
       "      <td>NaN</td>\n",
       "    </tr>\n",
       "    <tr>\n",
       "      <th>2</th>\n",
       "      <td>5.941050e+17</td>\n",
       "      <td>NaN</td>\n",
       "      <td>NaN</td>\n",
       "      <td>NaN</td>\n",
       "    </tr>\n",
       "    <tr>\n",
       "      <th>3</th>\n",
       "      <td>5.245512e+04</td>\n",
       "      <td>6.303122</td>\n",
       "      <td>-5.244881e+04</td>\n",
       "      <td>8.321086e+05</td>\n",
       "    </tr>\n",
       "    <tr>\n",
       "      <th>4</th>\n",
       "      <td>1.304440e+36</td>\n",
       "      <td>7.574694</td>\n",
       "      <td>-1.304440e+36</td>\n",
       "      <td>1.722102e+37</td>\n",
       "    </tr>\n",
       "    <tr>\n",
       "      <th>5</th>\n",
       "      <td>4.116336e+09</td>\n",
       "      <td>NaN</td>\n",
       "      <td>NaN</td>\n",
       "      <td>NaN</td>\n",
       "    </tr>\n",
       "    <tr>\n",
       "      <th>6</th>\n",
       "      <td>3.152371e+00</td>\n",
       "      <td>5.779383</td>\n",
       "      <td>2.627013e+00</td>\n",
       "      <td>4.545490e+01</td>\n",
       "    </tr>\n",
       "    <tr>\n",
       "      <th>7</th>\n",
       "      <td>1.238279e-02</td>\n",
       "      <td>14.439868</td>\n",
       "      <td>1.442749e+01</td>\n",
       "      <td>9.991425e+01</td>\n",
       "    </tr>\n",
       "    <tr>\n",
       "      <th>8</th>\n",
       "      <td>1.567599e+02</td>\n",
       "      <td>8.209869</td>\n",
       "      <td>-1.485500e+02</td>\n",
       "      <td>1.809408e+03</td>\n",
       "    </tr>\n",
       "    <tr>\n",
       "      <th>9</th>\n",
       "      <td>6.457124e+01</td>\n",
       "      <td>NaN</td>\n",
       "      <td>NaN</td>\n",
       "      <td>NaN</td>\n",
       "    </tr>\n",
       "    <tr>\n",
       "      <th>10</th>\n",
       "      <td>4.522201e-01</td>\n",
       "      <td>44.713703</td>\n",
       "      <td>4.426148e+01</td>\n",
       "      <td>9.898863e+01</td>\n",
       "    </tr>\n",
       "    <tr>\n",
       "      <th>11</th>\n",
       "      <td>4.742097e+02</td>\n",
       "      <td>1.520898</td>\n",
       "      <td>-4.726888e+02</td>\n",
       "      <td>3.107958e+04</td>\n",
       "    </tr>\n",
       "    <tr>\n",
       "      <th>12</th>\n",
       "      <td>3.496554e-06</td>\n",
       "      <td>NaN</td>\n",
       "      <td>NaN</td>\n",
       "      <td>NaN</td>\n",
       "    </tr>\n",
       "    <tr>\n",
       "      <th>13</th>\n",
       "      <td>7.904186e-09</td>\n",
       "      <td>7.859461</td>\n",
       "      <td>7.859461e+00</td>\n",
       "      <td>1.000000e+02</td>\n",
       "    </tr>\n",
       "  </tbody>\n",
       "</table>\n",
       "</div>"
      ],
      "text/plain": [
       "      Prediction     Target      Residual   Difference%\n",
       "0   8.651475e-06  12.909765  1.290976e+01  9.999993e+01\n",
       "1   1.492685e-09        NaN           NaN           NaN\n",
       "2   5.941050e+17        NaN           NaN           NaN\n",
       "3   5.245512e+04   6.303122 -5.244881e+04  8.321086e+05\n",
       "4   1.304440e+36   7.574694 -1.304440e+36  1.722102e+37\n",
       "5   4.116336e+09        NaN           NaN           NaN\n",
       "6   3.152371e+00   5.779383  2.627013e+00  4.545490e+01\n",
       "7   1.238279e-02  14.439868  1.442749e+01  9.991425e+01\n",
       "8   1.567599e+02   8.209869 -1.485500e+02  1.809408e+03\n",
       "9   6.457124e+01        NaN           NaN           NaN\n",
       "10  4.522201e-01  44.713703  4.426148e+01  9.898863e+01\n",
       "11  4.742097e+02   1.520898 -4.726888e+02  3.107958e+04\n",
       "12  3.496554e-06        NaN           NaN           NaN\n",
       "13  7.904186e-09   7.859461  7.859461e+00  1.000000e+02"
      ]
     },
     "execution_count": 27,
     "metadata": {},
     "output_type": "execute_result"
    }
   ],
   "source": [
    "df_pf['Difference%'] = np.absolute(df_pf['Residual']/df_pf['Target']*100)\n",
    "df_pf"
   ]
  },
  {
   "cell_type": "code",
   "execution_count": 28,
   "id": "b66fdb29",
   "metadata": {},
   "outputs": [
    {
     "data": {
      "text/html": [
       "<div>\n",
       "<style scoped>\n",
       "    .dataframe tbody tr th:only-of-type {\n",
       "        vertical-align: middle;\n",
       "    }\n",
       "\n",
       "    .dataframe tbody tr th {\n",
       "        vertical-align: top;\n",
       "    }\n",
       "\n",
       "    .dataframe thead th {\n",
       "        text-align: right;\n",
       "    }\n",
       "</style>\n",
       "<table border=\"1\" class=\"dataframe\">\n",
       "  <thead>\n",
       "    <tr style=\"text-align: right;\">\n",
       "      <th></th>\n",
       "      <th>Prediction</th>\n",
       "      <th>Target</th>\n",
       "      <th>Residual</th>\n",
       "      <th>Difference%</th>\n",
       "    </tr>\n",
       "  </thead>\n",
       "  <tbody>\n",
       "    <tr>\n",
       "      <th>count</th>\n",
       "      <td>1.400000e+01</td>\n",
       "      <td>9.000000</td>\n",
       "      <td>9.000000e+00</td>\n",
       "      <td>9.000000e+00</td>\n",
       "    </tr>\n",
       "    <tr>\n",
       "      <th>mean</th>\n",
       "      <td>9.317425e+34</td>\n",
       "      <td>12.145640</td>\n",
       "      <td>-1.449377e+35</td>\n",
       "      <td>1.913446e+36</td>\n",
       "    </tr>\n",
       "    <tr>\n",
       "      <th>std</th>\n",
       "      <td>3.486261e+35</td>\n",
       "      <td>12.790771</td>\n",
       "      <td>4.348132e+35</td>\n",
       "      <td>5.740339e+36</td>\n",
       "    </tr>\n",
       "    <tr>\n",
       "      <th>min</th>\n",
       "      <td>1.492685e-09</td>\n",
       "      <td>1.520898</td>\n",
       "      <td>-1.304440e+36</td>\n",
       "      <td>4.545490e+01</td>\n",
       "    </tr>\n",
       "    <tr>\n",
       "      <th>25%</th>\n",
       "      <td>3.102187e-03</td>\n",
       "      <td>6.303122</td>\n",
       "      <td>-4.726888e+02</td>\n",
       "      <td>9.991425e+01</td>\n",
       "    </tr>\n",
       "    <tr>\n",
       "      <th>50%</th>\n",
       "      <td>3.386180e+01</td>\n",
       "      <td>7.859461</td>\n",
       "      <td>2.627013e+00</td>\n",
       "      <td>1.000000e+02</td>\n",
       "    </tr>\n",
       "    <tr>\n",
       "      <th>75%</th>\n",
       "      <td>3.945989e+04</td>\n",
       "      <td>12.909765</td>\n",
       "      <td>1.290976e+01</td>\n",
       "      <td>3.107958e+04</td>\n",
       "    </tr>\n",
       "    <tr>\n",
       "      <th>max</th>\n",
       "      <td>1.304440e+36</td>\n",
       "      <td>44.713703</td>\n",
       "      <td>4.426148e+01</td>\n",
       "      <td>1.722102e+37</td>\n",
       "    </tr>\n",
       "  </tbody>\n",
       "</table>\n",
       "</div>"
      ],
      "text/plain": [
       "         Prediction     Target      Residual   Difference%\n",
       "count  1.400000e+01   9.000000  9.000000e+00  9.000000e+00\n",
       "mean   9.317425e+34  12.145640 -1.449377e+35  1.913446e+36\n",
       "std    3.486261e+35  12.790771  4.348132e+35  5.740339e+36\n",
       "min    1.492685e-09   1.520898 -1.304440e+36  4.545490e+01\n",
       "25%    3.102187e-03   6.303122 -4.726888e+02  9.991425e+01\n",
       "50%    3.386180e+01   7.859461  2.627013e+00  1.000000e+02\n",
       "75%    3.945989e+04  12.909765  1.290976e+01  3.107958e+04\n",
       "max    1.304440e+36  44.713703  4.426148e+01  1.722102e+37"
      ]
     },
     "execution_count": 28,
     "metadata": {},
     "output_type": "execute_result"
    }
   ],
   "source": [
    "df_pf.describe()"
   ]
  },
  {
   "cell_type": "code",
   "execution_count": 29,
   "id": "57c97be4",
   "metadata": {},
   "outputs": [
    {
     "data": {
      "text/html": [
       "<div>\n",
       "<style scoped>\n",
       "    .dataframe tbody tr th:only-of-type {\n",
       "        vertical-align: middle;\n",
       "    }\n",
       "\n",
       "    .dataframe tbody tr th {\n",
       "        vertical-align: top;\n",
       "    }\n",
       "\n",
       "    .dataframe thead th {\n",
       "        text-align: right;\n",
       "    }\n",
       "</style>\n",
       "<table border=\"1\" class=\"dataframe\">\n",
       "  <thead>\n",
       "    <tr style=\"text-align: right;\">\n",
       "      <th></th>\n",
       "      <th>YEAR</th>\n",
       "      <th>Deposit Money Banks Financial Services Proxy By Bank Return on Assets</th>\n",
       "      <th>Mobile Money Transaction</th>\n",
       "      <th>Internet Banking Proxy By Total Bank Deposit</th>\n",
       "      <th>Automated Teller Machine (ATM)</th>\n",
       "      <th>Digital Network Penetration (Internet User Index)</th>\n",
       "    </tr>\n",
       "  </thead>\n",
       "  <tbody>\n",
       "    <tr>\n",
       "      <th>0</th>\n",
       "      <td>2000</td>\n",
       "      <td>2.557984</td>\n",
       "      <td>0</td>\n",
       "      <td>0.0</td>\n",
       "      <td>0.00</td>\n",
       "      <td>0</td>\n",
       "    </tr>\n",
       "    <tr>\n",
       "      <th>1</th>\n",
       "      <td>2001</td>\n",
       "      <td>3.260707</td>\n",
       "      <td>0</td>\n",
       "      <td>0.0</td>\n",
       "      <td>0.00</td>\n",
       "      <td>0</td>\n",
       "    </tr>\n",
       "    <tr>\n",
       "      <th>2</th>\n",
       "      <td>2002</td>\n",
       "      <td>2.443406</td>\n",
       "      <td>0</td>\n",
       "      <td>0.0</td>\n",
       "      <td>0.00</td>\n",
       "      <td>0</td>\n",
       "    </tr>\n",
       "    <tr>\n",
       "      <th>3</th>\n",
       "      <td>2003</td>\n",
       "      <td>1.841045</td>\n",
       "      <td>0</td>\n",
       "      <td>0.0</td>\n",
       "      <td>0.00</td>\n",
       "      <td>1</td>\n",
       "    </tr>\n",
       "    <tr>\n",
       "      <th>4</th>\n",
       "      <td>2004</td>\n",
       "      <td>2.024813</td>\n",
       "      <td>0</td>\n",
       "      <td>0.0</td>\n",
       "      <td>0.00</td>\n",
       "      <td>1</td>\n",
       "    </tr>\n",
       "    <tr>\n",
       "      <th>5</th>\n",
       "      <td>2005</td>\n",
       "      <td>2.096575</td>\n",
       "      <td>0</td>\n",
       "      <td>0.0</td>\n",
       "      <td>0.68</td>\n",
       "      <td>4</td>\n",
       "    </tr>\n",
       "    <tr>\n",
       "      <th>6</th>\n",
       "      <td>2006</td>\n",
       "      <td>1.754297</td>\n",
       "      <td>0</td>\n",
       "      <td>0.0</td>\n",
       "      <td>1.78</td>\n",
       "      <td>6</td>\n",
       "    </tr>\n",
       "    <tr>\n",
       "      <th>7</th>\n",
       "      <td>2007</td>\n",
       "      <td>2.669993</td>\n",
       "      <td>0</td>\n",
       "      <td>296.2</td>\n",
       "      <td>4.48</td>\n",
       "      <td>7</td>\n",
       "    </tr>\n",
       "    <tr>\n",
       "      <th>8</th>\n",
       "      <td>2008</td>\n",
       "      <td>2.105337</td>\n",
       "      <td>0</td>\n",
       "      <td>311.9</td>\n",
       "      <td>8.64</td>\n",
       "      <td>8</td>\n",
       "    </tr>\n",
       "    <tr>\n",
       "      <th>9</th>\n",
       "      <td>2009</td>\n",
       "      <td>-23.257140</td>\n",
       "      <td>0</td>\n",
       "      <td>464.5</td>\n",
       "      <td>11.46</td>\n",
       "      <td>9</td>\n",
       "    </tr>\n",
       "    <tr>\n",
       "      <th>10</th>\n",
       "      <td>2010</td>\n",
       "      <td>3.800280</td>\n",
       "      <td>0</td>\n",
       "      <td>472.6</td>\n",
       "      <td>11.23</td>\n",
       "      <td>12</td>\n",
       "    </tr>\n",
       "    <tr>\n",
       "      <th>11</th>\n",
       "      <td>2011</td>\n",
       "      <td>0.419301</td>\n",
       "      <td>0</td>\n",
       "      <td>504.6</td>\n",
       "      <td>11.94</td>\n",
       "      <td>14</td>\n",
       "    </tr>\n",
       "    <tr>\n",
       "      <th>12</th>\n",
       "      <td>2012</td>\n",
       "      <td>3.253207</td>\n",
       "      <td>3407563</td>\n",
       "      <td>644.4</td>\n",
       "      <td>11.49</td>\n",
       "      <td>16</td>\n",
       "    </tr>\n",
       "    <tr>\n",
       "      <th>13</th>\n",
       "      <td>2013</td>\n",
       "      <td>2.061718</td>\n",
       "      <td>6918329</td>\n",
       "      <td>650.7</td>\n",
       "      <td>13.30</td>\n",
       "      <td>19</td>\n",
       "    </tr>\n",
       "    <tr>\n",
       "      <th>14</th>\n",
       "      <td>2014</td>\n",
       "      <td>2.111478</td>\n",
       "      <td>7029338</td>\n",
       "      <td>653.4</td>\n",
       "      <td>16.19</td>\n",
       "      <td>21</td>\n",
       "    </tr>\n",
       "    <tr>\n",
       "      <th>15</th>\n",
       "      <td>2015</td>\n",
       "      <td>0.952988</td>\n",
       "      <td>10771193</td>\n",
       "      <td>667.5</td>\n",
       "      <td>16.21</td>\n",
       "      <td>25</td>\n",
       "    </tr>\n",
       "    <tr>\n",
       "      <th>16</th>\n",
       "      <td>2016</td>\n",
       "      <td>-0.349357</td>\n",
       "      <td>5378026</td>\n",
       "      <td>813.9</td>\n",
       "      <td>16.74</td>\n",
       "      <td>26</td>\n",
       "    </tr>\n",
       "    <tr>\n",
       "      <th>17</th>\n",
       "      <td>2017</td>\n",
       "      <td>0.702013</td>\n",
       "      <td>4170705</td>\n",
       "      <td>923.2</td>\n",
       "      <td>16.33</td>\n",
       "      <td>28</td>\n",
       "    </tr>\n",
       "    <tr>\n",
       "      <th>18</th>\n",
       "      <td>2018</td>\n",
       "      <td>0.911091</td>\n",
       "      <td>8488573</td>\n",
       "      <td>1013.7</td>\n",
       "      <td>16.93</td>\n",
       "      <td>32</td>\n",
       "    </tr>\n",
       "    <tr>\n",
       "      <th>19</th>\n",
       "      <td>2019</td>\n",
       "      <td>1.341386</td>\n",
       "      <td>15257292</td>\n",
       "      <td>1127.7</td>\n",
       "      <td>17.19</td>\n",
       "      <td>34</td>\n",
       "    </tr>\n",
       "    <tr>\n",
       "      <th>20</th>\n",
       "      <td>2020</td>\n",
       "      <td>1.123442</td>\n",
       "      <td>7095869</td>\n",
       "      <td>1310.4</td>\n",
       "      <td>16.15</td>\n",
       "      <td>36</td>\n",
       "    </tr>\n",
       "    <tr>\n",
       "      <th>21</th>\n",
       "      <td>2021</td>\n",
       "      <td>1.123442</td>\n",
       "      <td>23116378</td>\n",
       "      <td>1310.4</td>\n",
       "      <td>16.15</td>\n",
       "      <td>38</td>\n",
       "    </tr>\n",
       "  </tbody>\n",
       "</table>\n",
       "</div>"
      ],
      "text/plain": [
       "    YEAR  \\\n",
       "0   2000   \n",
       "1   2001   \n",
       "2   2002   \n",
       "3   2003   \n",
       "4   2004   \n",
       "5   2005   \n",
       "6   2006   \n",
       "7   2007   \n",
       "8   2008   \n",
       "9   2009   \n",
       "10  2010   \n",
       "11  2011   \n",
       "12  2012   \n",
       "13  2013   \n",
       "14  2014   \n",
       "15  2015   \n",
       "16  2016   \n",
       "17  2017   \n",
       "18  2018   \n",
       "19  2019   \n",
       "20  2020   \n",
       "21  2021   \n",
       "\n",
       "    Deposit Money Banks Financial Services Proxy By Bank Return on Assets  \\\n",
       "0                                            2.557984                       \n",
       "1                                            3.260707                       \n",
       "2                                            2.443406                       \n",
       "3                                            1.841045                       \n",
       "4                                            2.024813                       \n",
       "5                                            2.096575                       \n",
       "6                                            1.754297                       \n",
       "7                                            2.669993                       \n",
       "8                                            2.105337                       \n",
       "9                                          -23.257140                       \n",
       "10                                           3.800280                       \n",
       "11                                           0.419301                       \n",
       "12                                           3.253207                       \n",
       "13                                           2.061718                       \n",
       "14                                           2.111478                       \n",
       "15                                           0.952988                       \n",
       "16                                          -0.349357                       \n",
       "17                                           0.702013                       \n",
       "18                                           0.911091                       \n",
       "19                                           1.341386                       \n",
       "20                                           1.123442                       \n",
       "21                                           1.123442                       \n",
       "\n",
       "    Mobile Money Transaction  Internet Banking Proxy By Total Bank Deposit  \\\n",
       "0                          0                                           0.0   \n",
       "1                          0                                           0.0   \n",
       "2                          0                                           0.0   \n",
       "3                          0                                           0.0   \n",
       "4                          0                                           0.0   \n",
       "5                          0                                           0.0   \n",
       "6                          0                                           0.0   \n",
       "7                          0                                         296.2   \n",
       "8                          0                                         311.9   \n",
       "9                          0                                         464.5   \n",
       "10                         0                                         472.6   \n",
       "11                         0                                         504.6   \n",
       "12                   3407563                                         644.4   \n",
       "13                   6918329                                         650.7   \n",
       "14                   7029338                                         653.4   \n",
       "15                  10771193                                         667.5   \n",
       "16                   5378026                                         813.9   \n",
       "17                   4170705                                         923.2   \n",
       "18                   8488573                                        1013.7   \n",
       "19                  15257292                                        1127.7   \n",
       "20                   7095869                                        1310.4   \n",
       "21                  23116378                                        1310.4   \n",
       "\n",
       "    Automated Teller Machine (ATM)  \\\n",
       "0                             0.00   \n",
       "1                             0.00   \n",
       "2                             0.00   \n",
       "3                             0.00   \n",
       "4                             0.00   \n",
       "5                             0.68   \n",
       "6                             1.78   \n",
       "7                             4.48   \n",
       "8                             8.64   \n",
       "9                            11.46   \n",
       "10                           11.23   \n",
       "11                           11.94   \n",
       "12                           11.49   \n",
       "13                           13.30   \n",
       "14                           16.19   \n",
       "15                           16.21   \n",
       "16                           16.74   \n",
       "17                           16.33   \n",
       "18                           16.93   \n",
       "19                           17.19   \n",
       "20                           16.15   \n",
       "21                           16.15   \n",
       "\n",
       "    Digital Network Penetration (Internet User Index)  \n",
       "0                                                   0  \n",
       "1                                                   0  \n",
       "2                                                   0  \n",
       "3                                                   1  \n",
       "4                                                   1  \n",
       "5                                                   4  \n",
       "6                                                   6  \n",
       "7                                                   7  \n",
       "8                                                   8  \n",
       "9                                                   9  \n",
       "10                                                 12  \n",
       "11                                                 14  \n",
       "12                                                 16  \n",
       "13                                                 19  \n",
       "14                                                 21  \n",
       "15                                                 25  \n",
       "16                                                 26  \n",
       "17                                                 28  \n",
       "18                                                 32  \n",
       "19                                                 34  \n",
       "20                                                 36  \n",
       "21                                                 38  "
      ]
     },
     "execution_count": 29,
     "metadata": {},
     "output_type": "execute_result"
    }
   ],
   "source": [
    "data"
   ]
  },
  {
   "cell_type": "markdown",
   "id": "58260ef2",
   "metadata": {},
   "source": [
    "P-value of Mobile Money Transaction"
   ]
  },
  {
   "cell_type": "code",
   "execution_count": 30,
   "id": "fd2fba8c",
   "metadata": {},
   "outputs": [
    {
     "data": {
      "text/plain": [
       "Ttest_indResult(statistic=-3.207379724727917, pvalue=0.0025636147537159474)"
      ]
     },
     "execution_count": 30,
     "metadata": {},
     "output_type": "execute_result"
    }
   ],
   "source": [
    "from scipy import stats\n",
    "stats.ttest_ind(data['Deposit Money Banks Financial Services Proxy By Bank Return on Assets'], data['Mobile Money Transaction'])"
   ]
  },
  {
   "cell_type": "markdown",
   "id": "b2722fb9",
   "metadata": {},
   "source": [
    "P-value of Internet Banking"
   ]
  },
  {
   "cell_type": "code",
   "execution_count": 31,
   "id": "41dcf898",
   "metadata": {},
   "outputs": [
    {
     "data": {
      "text/plain": [
       "Ttest_indResult(statistic=-5.3331129932589825, pvalue=3.588081069693564e-06)"
      ]
     },
     "execution_count": 31,
     "metadata": {},
     "output_type": "execute_result"
    }
   ],
   "source": [
    "stats.ttest_ind(data['Deposit Money Banks Financial Services Proxy By Bank Return on Assets'], data['Internet Banking Proxy By Total Bank Deposit'])"
   ]
  },
  {
   "cell_type": "markdown",
   "id": "a9fb8108",
   "metadata": {},
   "source": [
    "P-value of ATM"
   ]
  },
  {
   "cell_type": "code",
   "execution_count": 32,
   "id": "1bab6269",
   "metadata": {},
   "outputs": [
    {
     "data": {
      "text/plain": [
       "Ttest_indResult(statistic=-4.605222780387721, pvalue=3.793876113970926e-05)"
      ]
     },
     "execution_count": 32,
     "metadata": {},
     "output_type": "execute_result"
    }
   ],
   "source": [
    "stats.ttest_ind(data['Deposit Money Banks Financial Services Proxy By Bank Return on Assets'], data['Automated Teller Machine (ATM)'])"
   ]
  },
  {
   "cell_type": "markdown",
   "id": "53dbd6ed",
   "metadata": {},
   "source": [
    "Digital Network Penetration"
   ]
  },
  {
   "cell_type": "code",
   "execution_count": 33,
   "id": "f66dbf37",
   "metadata": {},
   "outputs": [
    {
     "data": {
      "text/plain": [
       "Ttest_indResult(statistic=-4.908125735884473, pvalue=1.4337806986645451e-05)"
      ]
     },
     "execution_count": 33,
     "metadata": {},
     "output_type": "execute_result"
    }
   ],
   "source": [
    "stats.ttest_ind(data['Deposit Money Banks Financial Services Proxy By Bank Return on Assets'], data['Digital Network Penetration (Internet User Index)'])"
   ]
  },
  {
   "cell_type": "markdown",
   "id": "6c4389ae",
   "metadata": {},
   "source": [
    "YEAR"
   ]
  },
  {
   "cell_type": "code",
   "execution_count": 34,
   "id": "457f3aac",
   "metadata": {},
   "outputs": [
    {
     "data": {
      "text/plain": [
       "Ttest_indResult(statistic=-1112.9982373844573, pvalue=1.6706884585640774e-95)"
      ]
     },
     "execution_count": 34,
     "metadata": {},
     "output_type": "execute_result"
    }
   ],
   "source": [
    "stats.ttest_ind(data['Deposit Money Banks Financial Services Proxy By Bank Return on Assets'], data['YEAR'])"
   ]
  },
  {
   "cell_type": "markdown",
   "id": "2daf72f1",
   "metadata": {},
   "source": [
    "Summary Statistics"
   ]
  },
  {
   "cell_type": "code",
   "execution_count": 35,
   "id": "2fdc2b27",
   "metadata": {},
   "outputs": [],
   "source": [
    "y = data ['Deposit Money Banks Financial Services Proxy By Bank Return on Assets'] \n",
    "x1 = data.drop(['Deposit Money Banks Financial Services Proxy By Bank Return on Assets'],axis=1)"
   ]
  },
  {
   "cell_type": "code",
   "execution_count": 36,
   "id": "c059d1ac",
   "metadata": {},
   "outputs": [
    {
     "data": {
      "text/html": [
       "<table class=\"simpletable\">\n",
       "<caption>OLS Regression Results</caption>\n",
       "<tr>\n",
       "  <th>Dep. Variable:</th>    <td>Deposit Money Banks Financial Services Proxy By Bank Return on Assets</td> <th>  R-squared:         </th> <td>   0.242</td>\n",
       "</tr>\n",
       "<tr>\n",
       "  <th>Model:</th>                                             <td>OLS</td>                                  <th>  Adj. R-squared:    </th> <td>   0.006</td>\n",
       "</tr>\n",
       "<tr>\n",
       "  <th>Method:</th>                                       <td>Least Squares</td>                             <th>  F-statistic:       </th> <td>   1.024</td>\n",
       "</tr>\n",
       "<tr>\n",
       "  <th>Date:</th>                                       <td>Fri, 10 Mar 2023</td>                            <th>  Prob (F-statistic):</th>  <td> 0.436</td> \n",
       "</tr>\n",
       "<tr>\n",
       "  <th>Time:</th>                                           <td>16:26:49</td>                                <th>  Log-Likelihood:    </th> <td> -64.905</td>\n",
       "</tr>\n",
       "<tr>\n",
       "  <th>No. Observations:</th>                                <td>    22</td>                                 <th>  AIC:               </th> <td>   141.8</td>\n",
       "</tr>\n",
       "<tr>\n",
       "  <th>Df Residuals:</th>                                    <td>    16</td>                                 <th>  BIC:               </th> <td>   148.4</td>\n",
       "</tr>\n",
       "<tr>\n",
       "  <th>Df Model:</th>                                        <td>     5</td>                                 <th>                     </th>     <td> </td>   \n",
       "</tr>\n",
       "<tr>\n",
       "  <th>Covariance Type:</th>                                <td>nonrobust</td>                               <th>                     </th>     <td> </td>   \n",
       "</tr>\n",
       "</table>\n",
       "<table class=\"simpletable\">\n",
       "<tr>\n",
       "                          <td></td>                             <th>coef</th>     <th>std err</th>      <th>t</th>      <th>P>|t|</th>  <th>[0.025</th>    <th>0.975]</th>  \n",
       "</tr>\n",
       "<tr>\n",
       "  <th>const</th>                                             <td>  970.8331</td> <td> 2902.945</td> <td>    0.334</td> <td> 0.742</td> <td>-5183.136</td> <td> 7124.802</td>\n",
       "</tr>\n",
       "<tr>\n",
       "  <th>YEAR</th>                                              <td>   -0.4841</td> <td>    1.450</td> <td>   -0.334</td> <td> 0.743</td> <td>   -3.557</td> <td>    2.589</td>\n",
       "</tr>\n",
       "<tr>\n",
       "  <th>Mobile Money Transaction</th>                          <td>-1.236e-07</td> <td> 3.97e-07</td> <td>   -0.312</td> <td> 0.759</td> <td>-9.64e-07</td> <td> 7.17e-07</td>\n",
       "</tr>\n",
       "<tr>\n",
       "  <th>Internet Banking Proxy By Total Bank Deposit</th>      <td>   -0.0171</td> <td>    0.014</td> <td>   -1.199</td> <td> 0.248</td> <td>   -0.047</td> <td>    0.013</td>\n",
       "</tr>\n",
       "<tr>\n",
       "  <th>Automated Teller Machine (ATM)</th>                    <td>   -0.5678</td> <td>    0.580</td> <td>   -0.979</td> <td> 0.342</td> <td>   -1.798</td> <td>    0.662</td>\n",
       "</tr>\n",
       "<tr>\n",
       "  <th>Digital Network Penetration (Internet User Index)</th> <td>    1.1530</td> <td>    0.779</td> <td>    1.481</td> <td> 0.158</td> <td>   -0.498</td> <td>    2.803</td>\n",
       "</tr>\n",
       "</table>\n",
       "<table class=\"simpletable\">\n",
       "<tr>\n",
       "  <th>Omnibus:</th>       <td>27.916</td> <th>  Durbin-Watson:     </th> <td>   2.511</td>\n",
       "</tr>\n",
       "<tr>\n",
       "  <th>Prob(Omnibus):</th> <td> 0.000</td> <th>  Jarque-Bera (JB):  </th> <td>  57.774</td>\n",
       "</tr>\n",
       "<tr>\n",
       "  <th>Skew:</th>          <td>-2.164</td> <th>  Prob(JB):          </th> <td>2.85e-13</td>\n",
       "</tr>\n",
       "<tr>\n",
       "  <th>Kurtosis:</th>      <td> 9.655</td> <th>  Cond. No.          </th> <td>1.82e+10</td>\n",
       "</tr>\n",
       "</table><br/><br/>Notes:<br/>[1] Standard Errors assume that the covariance matrix of the errors is correctly specified.<br/>[2] The condition number is large, 1.82e+10. This might indicate that there are<br/>strong multicollinearity or other numerical problems."
      ],
      "text/plain": [
       "<class 'statsmodels.iolib.summary.Summary'>\n",
       "\"\"\"\n",
       "                                                      OLS Regression Results                                                     \n",
       "=================================================================================================================================\n",
       "Dep. Variable:     Deposit Money Banks Financial Services Proxy By Bank Return on Assets   R-squared:                       0.242\n",
       "Model:                                                                               OLS   Adj. R-squared:                  0.006\n",
       "Method:                                                                    Least Squares   F-statistic:                     1.024\n",
       "Date:                                                                   Fri, 10 Mar 2023   Prob (F-statistic):              0.436\n",
       "Time:                                                                           16:26:49   Log-Likelihood:                -64.905\n",
       "No. Observations:                                                                     22   AIC:                             141.8\n",
       "Df Residuals:                                                                         16   BIC:                             148.4\n",
       "Df Model:                                                                              5                                         \n",
       "Covariance Type:                                                               nonrobust                                         \n",
       "=====================================================================================================================\n",
       "                                                        coef    std err          t      P>|t|      [0.025      0.975]\n",
       "---------------------------------------------------------------------------------------------------------------------\n",
       "const                                               970.8331   2902.945      0.334      0.742   -5183.136    7124.802\n",
       "YEAR                                                 -0.4841      1.450     -0.334      0.743      -3.557       2.589\n",
       "Mobile Money Transaction                          -1.236e-07   3.97e-07     -0.312      0.759   -9.64e-07    7.17e-07\n",
       "Internet Banking Proxy By Total Bank Deposit         -0.0171      0.014     -1.199      0.248      -0.047       0.013\n",
       "Automated Teller Machine (ATM)                       -0.5678      0.580     -0.979      0.342      -1.798       0.662\n",
       "Digital Network Penetration (Internet User Index)     1.1530      0.779      1.481      0.158      -0.498       2.803\n",
       "==============================================================================\n",
       "Omnibus:                       27.916   Durbin-Watson:                   2.511\n",
       "Prob(Omnibus):                  0.000   Jarque-Bera (JB):               57.774\n",
       "Skew:                          -2.164   Prob(JB):                     2.85e-13\n",
       "Kurtosis:                       9.655   Cond. No.                     1.82e+10\n",
       "==============================================================================\n",
       "\n",
       "Notes:\n",
       "[1] Standard Errors assume that the covariance matrix of the errors is correctly specified.\n",
       "[2] The condition number is large, 1.82e+10. This might indicate that there are\n",
       "strong multicollinearity or other numerical problems.\n",
       "\"\"\""
      ]
     },
     "execution_count": 36,
     "metadata": {},
     "output_type": "execute_result"
    }
   ],
   "source": [
    "x = sm.add_constant(x1)\n",
    "results = sm.OLS(y,x).fit()\n",
    "results.summary()"
   ]
  },
  {
   "cell_type": "code",
   "execution_count": null,
   "id": "2f457e2d",
   "metadata": {},
   "outputs": [],
   "source": []
  }
 ],
 "metadata": {
  "kernelspec": {
   "display_name": "Python 3 (ipykernel)",
   "language": "python",
   "name": "python3"
  },
  "language_info": {
   "codemirror_mode": {
    "name": "ipython",
    "version": 3
   },
   "file_extension": ".py",
   "mimetype": "text/x-python",
   "name": "python",
   "nbconvert_exporter": "python",
   "pygments_lexer": "ipython3",
   "version": "3.9.13"
  }
 },
 "nbformat": 4,
 "nbformat_minor": 5
}
